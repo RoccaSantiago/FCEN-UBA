{
  "nbformat": 4,
  "nbformat_minor": 0,
  "metadata": {
    "colab": {
      "provenance": [],
      "collapsed_sections": [
        "wYL6Ul7DeiKi",
        "ed3dki9knn_J",
        "nCw2mf_EnylZ",
        "1cuz5Q5Yr0Kh"
      ]
    },
    "kernelspec": {
      "name": "python3",
      "display_name": "Python 3"
    },
    "language_info": {
      "name": "python"
    }
  },
  "cells": [
    {
      "cell_type": "markdown",
      "source": [
        "#Varios"
      ],
      "metadata": {
        "id": "kOu4cSjffcIb"
      }
    },
    {
      "cell_type": "code",
      "source": [
        "!pip install -q condacolab\n",
        "import condacolab\n",
        "condacolab.install_from_url(\"https://github.com/conda-forge/miniforge/releases/download/25.3.1-0/Miniforge3-Linux-x86_64.sh\")"
      ],
      "metadata": {
        "colab": {
          "base_uri": "https://localhost:8080/"
        },
        "id": "HYaDfvZEfiRf",
        "outputId": "e95debff-683a-42c9-8be7-7e6996ea69cd"
      },
      "execution_count": 3,
      "outputs": [
        {
          "output_type": "stream",
          "name": "stdout",
          "text": [
            "⏬ Downloading https://github.com/conda-forge/miniforge/releases/download/25.3.1-0/Miniforge3-Linux-x86_64.sh...\n",
            "📦 Installing...\n",
            "📌 Adjusting configuration...\n",
            "🩹 Patching environment...\n",
            "⏲ Done in 0:00:15\n",
            "🔁 Restarting kernel...\n"
          ]
        }
      ]
    },
    {
      "cell_type": "code",
      "source": [
        "!conda install -q pyscipopt"
      ],
      "metadata": {
        "colab": {
          "base_uri": "https://localhost:8080/"
        },
        "id": "NrlmUnhIfoJQ",
        "outputId": "725ba771-3a67-4cab-f210-78743ae60edb"
      },
      "execution_count": 4,
      "outputs": [
        {
          "output_type": "stream",
          "name": "stdout",
          "text": [
            "Channels:\n",
            " - conda-forge\n",
            "Platform: linux-64\n",
            "Collecting package metadata (repodata.json): ...working... done\n",
            "Solving environment: ...working... done\n",
            "\n",
            "## Package Plan ##\n",
            "\n",
            "  environment location: /usr/local\n",
            "\n",
            "  added / updated specs:\n",
            "    - pyscipopt\n",
            "\n",
            "\n",
            "The following packages will be downloaded:\n",
            "\n",
            "    package                    |            build\n",
            "    ---------------------------|-----------------\n",
            "    ampl-asl-1.0.0             |       h5888daf_2         504 KB  conda-forge\n",
            "    ca-certificates-2025.8.3   |       hbd8a1cb_0         151 KB  conda-forge\n",
            "    certifi-2025.8.3           |     pyhd8ed1ab_0         155 KB  conda-forge\n",
            "    conda-25.7.0               |  py312h7900ff3_0         1.2 MB  conda-forge\n",
            "    cppad-20250000.2           |       h5888daf_0         487 KB  conda-forge\n",
            "    gmp-6.3.0                  |       hac33072_2         449 KB  conda-forge\n",
            "    ipopt-3.14.19              |       h0804adb_0        1000 KB  conda-forge\n",
            "    libblas-3.9.0              |34_h59b9bed_openblas          19 KB  conda-forge\n",
            "    libcblas-3.9.0             |34_he106b2a_openblas          19 KB  conda-forge\n",
            "    libgfortran-15.1.0         |       h69a702a_4          29 KB  conda-forge\n",
            "    libgfortran-ng-15.1.0      |       h69a702a_4          29 KB  conda-forge\n",
            "    libgfortran5-15.1.0        |       hcea5267_4         1.5 MB  conda-forge\n",
            "    libhwloc-2.12.1            |default_h3d81e11_1000         2.3 MB  conda-forge\n",
            "    liblapack-3.9.0            |34_h7ac8fdf_openblas          19 KB  conda-forge\n",
            "    liblzma-devel-5.8.1        |       hb9d3cd8_2         430 KB  conda-forge\n",
            "    libopenblas-0.3.30         |pthreads_h94d23a6_2         5.7 MB  conda-forge\n",
            "    libscotch-7.0.4            |       h2fe6a88_5         333 KB  conda-forge\n",
            "    libspral-2025.05.20        |       hfabd9d1_1         352 KB  conda-forge\n",
            "    metis-5.1.0                |    hd0bcaf9_1007         3.7 MB  conda-forge\n",
            "    mpfr-4.2.1                 |       h90cbb55_3         620 KB  conda-forge\n",
            "    mumps-include-5.7.3        |      h82cca05_10          20 KB  conda-forge\n",
            "    mumps-seq-5.7.3            |       h27a6a8b_0         1.9 MB  conda-forge\n",
            "    numpy-2.3.2                |  py312h33ff503_2         8.4 MB  conda-forge\n",
            "    openssl-3.5.2              |       h26f9b46_0         3.0 MB  conda-forge\n",
            "    pyscipopt-5.6.0            |  py312h1289d80_1         920 KB  conda-forge\n",
            "    scip-9.2.3                 |       h61578e6_2        10.9 MB  conda-forge\n",
            "    tbb-2022.2.0               |       hb60516a_1         179 KB  conda-forge\n",
            "    xz-5.8.1                   |       hbcc6ac9_2          23 KB  conda-forge\n",
            "    xz-gpl-tools-5.8.1         |       hbcc6ac9_2          33 KB  conda-forge\n",
            "    xz-tools-5.8.1             |       hb9d3cd8_2          94 KB  conda-forge\n",
            "    zlib-1.3.1                 |       hb9d3cd8_2          90 KB  conda-forge\n",
            "    ------------------------------------------------------------\n",
            "                                           Total:        44.4 MB\n",
            "\n",
            "The following NEW packages will be INSTALLED:\n",
            "\n",
            "  ampl-asl           conda-forge/linux-64::ampl-asl-1.0.0-h5888daf_2 \n",
            "  cppad              conda-forge/linux-64::cppad-20250000.2-h5888daf_0 \n",
            "  gmp                conda-forge/linux-64::gmp-6.3.0-hac33072_2 \n",
            "  ipopt              conda-forge/linux-64::ipopt-3.14.19-h0804adb_0 \n",
            "  libblas            conda-forge/linux-64::libblas-3.9.0-34_h59b9bed_openblas \n",
            "  libcblas           conda-forge/linux-64::libcblas-3.9.0-34_he106b2a_openblas \n",
            "  libgfortran        conda-forge/linux-64::libgfortran-15.1.0-h69a702a_4 \n",
            "  libgfortran-ng     conda-forge/linux-64::libgfortran-ng-15.1.0-h69a702a_4 \n",
            "  libgfortran5       conda-forge/linux-64::libgfortran5-15.1.0-hcea5267_4 \n",
            "  libhwloc           conda-forge/linux-64::libhwloc-2.12.1-default_h3d81e11_1000 \n",
            "  liblapack          conda-forge/linux-64::liblapack-3.9.0-34_h7ac8fdf_openblas \n",
            "  liblzma-devel      conda-forge/linux-64::liblzma-devel-5.8.1-hb9d3cd8_2 \n",
            "  libopenblas        conda-forge/linux-64::libopenblas-0.3.30-pthreads_h94d23a6_2 \n",
            "  libscotch          conda-forge/linux-64::libscotch-7.0.4-h2fe6a88_5 \n",
            "  libspral           conda-forge/linux-64::libspral-2025.05.20-hfabd9d1_1 \n",
            "  metis              conda-forge/linux-64::metis-5.1.0-hd0bcaf9_1007 \n",
            "  mpfr               conda-forge/linux-64::mpfr-4.2.1-h90cbb55_3 \n",
            "  mumps-include      conda-forge/linux-64::mumps-include-5.7.3-h82cca05_10 \n",
            "  mumps-seq          conda-forge/linux-64::mumps-seq-5.7.3-h27a6a8b_0 \n",
            "  numpy              conda-forge/linux-64::numpy-2.3.2-py312h33ff503_2 \n",
            "  pyscipopt          conda-forge/linux-64::pyscipopt-5.6.0-py312h1289d80_1 \n",
            "  scip               conda-forge/linux-64::scip-9.2.3-h61578e6_2 \n",
            "  tbb                conda-forge/linux-64::tbb-2022.2.0-hb60516a_1 \n",
            "  xz                 conda-forge/linux-64::xz-5.8.1-hbcc6ac9_2 \n",
            "  xz-gpl-tools       conda-forge/linux-64::xz-gpl-tools-5.8.1-hbcc6ac9_2 \n",
            "  xz-tools           conda-forge/linux-64::xz-tools-5.8.1-hb9d3cd8_2 \n",
            "  zlib               conda-forge/linux-64::zlib-1.3.1-hb9d3cd8_2 \n",
            "\n",
            "The following packages will be UPDATED:\n",
            "\n",
            "  ca-certificates                      2025.7.14-hbd8a1cb_0 --> 2025.8.3-hbd8a1cb_0 \n",
            "  certifi                            2025.7.14-pyhd8ed1ab_0 --> 2025.8.3-pyhd8ed1ab_0 \n",
            "  conda                              25.3.1-py312h7900ff3_1 --> 25.7.0-py312h7900ff3_0 \n",
            "  openssl                                  3.5.1-h7b32b05_0 --> 3.5.2-h26f9b46_0 \n",
            "\n",
            "\n",
            "Preparing transaction: ...working... done\n",
            "Verifying transaction: ...working... done\n",
            "Executing transaction: ...working... done\n"
          ]
        }
      ]
    },
    {
      "cell_type": "code",
      "source": [
        "from pyscipopt import Model\n",
        "import numpy as np"
      ],
      "metadata": {
        "id": "77OOFnOhfqvM"
      },
      "execution_count": 1,
      "outputs": []
    },
    {
      "cell_type": "markdown",
      "source": [
        "# Ejercicio 1"
      ],
      "metadata": {
        "id": "wYL6Ul7DeiKi"
      }
    },
    {
      "cell_type": "code",
      "source": [
        "model = Model('Ejercicio_1')"
      ],
      "metadata": {
        "id": "CAaZjhxffPbM"
      },
      "execution_count": 17,
      "outputs": []
    },
    {
      "cell_type": "code",
      "source": [
        "x = {}\n",
        "for i in range(1,4):\n",
        "  x[i] = model.addVar(name=f'x_{i}')\n",
        "\n",
        "model.addCons(x[1] + x[2] + x[3] >= 225/30)\n",
        "\n",
        "A = [[0.03,0.01,0.04],[0.02, 0.015, 0.03],[0.04,0.005,0.02]]\n",
        "B = [0.15, 0.10, 0.12]\n",
        "\n",
        "for fila, b in zip(A,B):\n",
        "  model.addCons(fila[0] * x[1] + fila[1] * x[2] + fila[2] * x[3] >= b)\n",
        "\n",
        "model.setObjective(0.005 * x[1] + 1/300 * x[2] + 1/250 * x[3], sense = 'minimize')"
      ],
      "metadata": {
        "id": "JJ5KqusbihQf"
      },
      "execution_count": 18,
      "outputs": []
    },
    {
      "cell_type": "markdown",
      "source": [
        "Resultados:"
      ],
      "metadata": {
        "id": "pTA5IzbvmUfi"
      }
    },
    {
      "cell_type": "code",
      "source": [
        "model.redirectOutput()\n",
        "model.optimize()"
      ],
      "metadata": {
        "colab": {
          "base_uri": "https://localhost:8080/"
        },
        "id": "5cOUNYppmUQL",
        "outputId": "02cf28eb-8cf6-4a0a-cf8e-192999411678"
      },
      "execution_count": 19,
      "outputs": [
        {
          "output_type": "stream",
          "name": "stdout",
          "text": [
            "feasible solution found by trivial heuristic after 0.0 seconds, objective value 1.233333e+03\n",
            "presolving:\n",
            "(round 1, fast)       0 del vars, 0 del conss, 0 add conss, 6 chg bounds, 0 chg sides, 0 chg coeffs, 0 upgd conss, 0 impls, 0 clqs\n",
            "   (0.0s) running MILP presolver\n",
            "   (0.0s) MILP presolver found nothing\n",
            "   (0.0s) symmetry computation started: requiring (bin +, int +, cont +), (fixed: bin -, int -, cont -)\n",
            "   (0.0s) no symmetry present (symcode time: 0.00)\n",
            "presolving (2 rounds: 2 fast, 1 medium, 1 exhaustive):\n",
            " 0 deleted vars, 0 deleted constraints, 0 added constraints, 6 tightened bounds, 0 added holes, 0 changed sides, 0 changed coefficients\n",
            " 0 implications, 0 cliques\n",
            "presolved problem has 3 variables (0 bin, 0 int, 0 impl, 3 cont) and 4 constraints\n",
            "      4 constraints of type <linear>\n",
            "Presolving Time: 0.00\n",
            "\n",
            " time | node  | left  |LP iter|LP it/n|mem/heur|mdpt |vars |cons |rows |cuts |sepa|confs|strbr|  dualbound   | primalbound  |  gap   | compl. \n",
            "t 0.0s|     1 |     0 |     0 |     - | trivial|   0 |   3 |   4 |   0 |   0 |  0 |   0 |   0 | 0.000000e+00 | 1.475000e-01 |    Inf | unknown\n",
            "* 0.0s|     1 |     0 |     2 |     - |    LP  |   0 |   3 |   4 |   4 |   0 |  0 |   0 |   0 | 2.866667e-02 | 2.866667e-02 |   0.00%| unknown\n",
            "  0.0s|     1 |     0 |     2 |     - |   611k |   0 |   3 |   4 |   4 |   0 |  0 |   0 |   0 | 2.866667e-02 | 2.866667e-02 |   0.00%| unknown\n",
            "\n",
            "SCIP Status        : problem is solved [optimal solution found]\n",
            "Solving Time (sec) : 0.00\n",
            "Solving Nodes      : 1\n",
            "Primal Bound       : +2.86666666666667e-02 (3 solutions)\n",
            "Dual Bound         : +2.86666666666667e-02\n",
            "Gap                : 0.00 %\n"
          ]
        }
      ]
    },
    {
      "cell_type": "code",
      "source": [
        "model.getBestSol()"
      ],
      "metadata": {
        "colab": {
          "base_uri": "https://localhost:8080/"
        },
        "id": "cnCdf2QCm-Xp",
        "outputId": "df601ebf-73e0-40cd-b59f-a801298f121f"
      },
      "execution_count": 20,
      "outputs": [
        {
          "output_type": "execute_result",
          "data": {
            "text/plain": [
              "{'x_1': 0.0, 'x_2': 2.0, 'x_3': 5.5}"
            ]
          },
          "metadata": {},
          "execution_count": 20
        }
      ]
    },
    {
      "cell_type": "markdown",
      "source": [
        "# Ejercicio 2"
      ],
      "metadata": {
        "id": "ed3dki9knn_J"
      }
    },
    {
      "cell_type": "code",
      "source": [
        "model = Model('Ejercicio_2')"
      ],
      "metadata": {
        "id": "3-7H_T1doIHQ"
      },
      "execution_count": 21,
      "outputs": []
    },
    {
      "cell_type": "code",
      "source": [
        "#Parametros\n",
        "Utilidad = [4.4, 3.8, 4.1, 3.5, 5.1,3.2]\n",
        "Financiamiento = [220,180,250,150,400,120]\n",
        "\n",
        "#Variables\n",
        "x = {}\n",
        "for i in range(1,7):\n",
        "  x[i] = model.addVar(name = f'x_{i}',vtype ='I', lb=  0)\n",
        "\n",
        "#Restricciones\n",
        "model.addCons(x[5]>=200)\n",
        "model.addCons(x[1] + x[2] >= 300)\n",
        "model.addCons(sum(x[i] for i in range(1,7)) <= 1000)\n",
        "\n",
        "for i in range(1,7):\n",
        "  model.addCons(x[i]>=0)\n",
        "  model.addCons(x[i]<= Financiamiento[i-1])\n",
        "\n",
        "#Objetivo\n",
        "model.setObjective(sum(Utilidad[i] * x[i+1] for i in range(0,6)), sense = 'maximize')"
      ],
      "metadata": {
        "id": "2ZAk7wUKnqnC"
      },
      "execution_count": 23,
      "outputs": []
    },
    {
      "cell_type": "code",
      "source": [
        "model.redirectOutput()\n",
        "model.optimize()"
      ],
      "metadata": {
        "colab": {
          "base_uri": "https://localhost:8080/"
        },
        "id": "w2aTCJdNoM6n",
        "outputId": "70939f3e-1ecb-4a69-a864-64d3bf4cff80"
      },
      "execution_count": 24,
      "outputs": [
        {
          "output_type": "stream",
          "name": "stdout",
          "text": [
            "presolving:\n",
            "(round 1, fast)       0 del vars, 26 del conss, 0 add conss, 26 chg bounds, 0 chg sides, 0 chg coeffs, 0 upgd conss, 0 impls, 0 clqs\n",
            "(round 2, fast)       5 del vars, 28 del conss, 0 add conss, 30 chg bounds, 0 chg sides, 0 chg coeffs, 0 upgd conss, 0 impls, 0 clqs\n",
            "(round 3, fast)       6 del vars, 28 del conss, 0 add conss, 30 chg bounds, 0 chg sides, 0 chg coeffs, 0 upgd conss, 0 impls, 0 clqs\n",
            "   (0.0s) running MILP presolver\n",
            "   (0.0s) MILP presolver (2 rounds): 0 aggregations, 1 fixings, 0 bound changes\n",
            "(round 4, medium)     7 del vars, 30 del conss, 1 add conss, 30 chg bounds, 0 chg sides, 0 chg coeffs, 0 upgd conss, 0 impls, 0 clqs\n",
            "   (0.0s) symmetry computation started: requiring (bin +, int +, cont +), (fixed: bin -, int -, cont -)\n",
            "   (0.0s) no symmetry present (symcode time: 0.00)\n",
            "presolving (5 rounds: 5 fast, 2 medium, 1 exhaustive):\n",
            " 7 deleted vars, 30 deleted constraints, 1 added constraints, 30 tightened bounds, 0 added holes, 0 changed sides, 0 changed coefficients\n",
            " 0 implications, 0 cliques\n",
            "presolved problem has 5 variables (0 bin, 5 int, 0 impl, 0 cont) and 1 constraints\n",
            "      1 constraints of type <linear>\n",
            "transformed objective value is always integral (scale: 0.1)\n",
            "Presolving Time: 0.01\n",
            "\n",
            " time | node  | left  |LP iter|LP it/n|mem/heur|mdpt |vars |cons |rows |cuts |sepa|confs|strbr|  dualbound   | primalbound  |  gap   | compl. \n",
            "t 0.0s|     1 |     0 |     0 |     - | trivial|   0 |   5 |   1 |   0 |   0 |  0 |   0 |   0 | 5.626000e+03 | 2.292000e+03 | 145.46%| unknown\n",
            "i 0.0s|     1 |     0 |     0 |     - |  oneopt|   0 |   5 |   1 |   1 |   0 |  0 |   0 |   0 | 5.626000e+03 | 4.512000e+03 |  24.69%| unknown\n",
            "* 0.0s|     1 |     0 |     1 |     - |    LP  |   0 |   5 |   1 |   1 |   0 |  0 |   0 |   0 | 4.527000e+03 | 4.527000e+03 |   0.00%| unknown\n",
            "  0.0s|     1 |     0 |     1 |     - |   664k |   0 |   5 |   1 |   1 |   0 |  0 |   0 |   0 | 4.527000e+03 | 4.527000e+03 |   0.00%| unknown\n",
            "\n",
            "SCIP Status        : problem is solved [optimal solution found]\n",
            "Solving Time (sec) : 0.01\n",
            "Solving Nodes      : 1\n",
            "Primal Bound       : +4.52700000000000e+03 (3 solutions)\n",
            "Dual Bound         : +4.52700000000000e+03\n",
            "Gap                : 0.00 %\n"
          ]
        }
      ]
    },
    {
      "cell_type": "code",
      "source": [
        "model.getBestSol()"
      ],
      "metadata": {
        "colab": {
          "base_uri": "https://localhost:8080/"
        },
        "id": "fbaJQZJqrAkc",
        "outputId": "1633aaa6-8aaf-479a-f631-a3f6e56f2bd3"
      },
      "execution_count": 25,
      "outputs": [
        {
          "output_type": "execute_result",
          "data": {
            "text/plain": [
              "{'x_1': 220.0, 'x_2': 130.0, 'x_3': 250.0, 'x_4': 0.0, 'x_5': 400.0, 'x_6': 0.0}"
            ]
          },
          "metadata": {},
          "execution_count": 25
        }
      ]
    },
    {
      "cell_type": "markdown",
      "source": [
        "# Ejercicio 3"
      ],
      "metadata": {
        "id": "nCw2mf_EnylZ"
      }
    },
    {
      "cell_type": "code",
      "source": [
        "model = Model('Ejercicio_3')"
      ],
      "metadata": {
        "id": "70Ff1KOOn7J3"
      },
      "execution_count": 21,
      "outputs": []
    },
    {
      "cell_type": "code",
      "source": [
        "#Parametros\n",
        "K = 3\n",
        "N = 3\n",
        "adyacencias = [(1,3),(2,3),(2,1)]\n",
        "\n",
        "#Variables\n",
        "x = {}\n",
        "y = {}\n",
        "for i in range(1,N+1):\n",
        "  for j in range(1,K+1):\n",
        "    x[(i,j)] = model.addVar(name = f'x_{i}_{j}', vtype = 'B')\n",
        "\n",
        "for j in range(1,K+1):\n",
        "  y[j] = model.addVar(name = f'y_{j}', vtype = 'B')\n",
        "\n",
        "#Restricciones\n",
        "for i in range(1,N+1):\n",
        "  model.addCons(sum(x[(i,j)] for j in range(1,K+1)) == 1)\n",
        "  for j in range(1,K+1):\n",
        "    model.addCons(x[(i,j)] <= y[j])\n",
        "\n",
        "for j in range(1,K+1):\n",
        "  for ady in adyacencias:\n",
        "    model.addCons(x[(ady[0],j)] + x[(ady[1],j)]<= 1)\n",
        "\n",
        "#Objetivo\n",
        "model.setObjective(sum(y[j] for j in range(1,K+1)), sense = 'minimize')\n",
        ""
      ],
      "metadata": {
        "id": "MvHnEj2Kn_Fy"
      },
      "execution_count": 22,
      "outputs": []
    },
    {
      "cell_type": "code",
      "source": [
        "model.redirectOutput()\n",
        "model.optimize()"
      ],
      "metadata": {
        "colab": {
          "base_uri": "https://localhost:8080/"
        },
        "id": "XIviUYbxrSvA",
        "outputId": "fda39b70-597c-4de0-a933-43cf4a624e45"
      },
      "execution_count": 23,
      "outputs": [
        {
          "output_type": "stream",
          "name": "stdout",
          "text": [
            "presolving:\n",
            "   (0.0s) running MILP presolver\n",
            "   (0.0s) MILP presolver found nothing\n",
            "(round 1, exhaustive) 0 del vars, 0 del conss, 0 add conss, 0 chg bounds, 0 chg sides, 0 chg coeffs, 21 upgd conss, 0 impls, 21 clqs\n",
            "   (0.0s) probing cycle finished: starting next cycle\n",
            "   (0.0s) symmetry computation started: requiring (bin +, int +, cont +), (fixed: bin -, int -, cont -)\n",
            "   (0.0s) symmetry computation finished: 4 generators found (max: 1500, log10 of symmetry group size: 1.56) (symcode time: 0.00)\n",
            "dynamic symmetry handling statistics:\n",
            "   orbitopal reduction:       no components\n",
            "   orbital reduction:         no components\n",
            "   lexicographic reduction:   no permutations\n",
            "handled 1 out of 1 symmetry components\n",
            "(round 2, exhaustive) 12 del vars, 0 del conss, 2 add conss, 0 chg bounds, 0 chg sides, 0 chg coeffs, 21 upgd conss, 0 impls, 0 clqs\n",
            "(round 3, fast)       21 del vars, 21 del conss, 2 add conss, 0 chg bounds, 0 chg sides, 0 chg coeffs, 21 upgd conss, 0 impls, 0 clqs\n",
            "presolving (4 rounds: 4 fast, 3 medium, 3 exhaustive):\n",
            " 21 deleted vars, 23 deleted constraints, 2 added constraints, 0 tightened bounds, 0 added holes, 0 changed sides, 0 changed coefficients\n",
            " 0 implications, 0 cliques\n",
            "transformed 1/1 original solutions to the transformed problem space\n",
            "Presolving Time: 0.00\n",
            "\n",
            "SCIP Status        : problem is solved [optimal solution found]\n",
            "Solving Time (sec) : 0.00\n",
            "Solving Nodes      : 0\n",
            "Primal Bound       : +3.00000000000000e+00 (1 solutions)\n",
            "Dual Bound         : +3.00000000000000e+00\n",
            "Gap                : 0.00 %\n"
          ]
        }
      ]
    },
    {
      "cell_type": "code",
      "source": [
        "model.getBestSol()"
      ],
      "metadata": {
        "colab": {
          "base_uri": "https://localhost:8080/"
        },
        "id": "JoWCjoz7rTkn",
        "outputId": "e3c24426-8b96-4c6d-c1be-ec80682c3fc6"
      },
      "execution_count": 24,
      "outputs": [
        {
          "output_type": "execute_result",
          "data": {
            "text/plain": [
              "{'x_1_1': 1.0, 'x_1_2': -0.0, 'x_1_3': -0.0, 'x_2_1': -0.0, 'x_2_2': 1.0, 'x_2_3': -0.0, 'x_3_1': -0.0, 'x_3_2': -0.0, 'x_3_3': 1.0, 'y_1': 1.0, 'y_2': 1.0, 'y_3': 1.0}"
            ]
          },
          "metadata": {},
          "execution_count": 24
        }
      ]
    },
    {
      "cell_type": "markdown",
      "source": [
        "# Ejercicio 4"
      ],
      "metadata": {
        "id": "1cuz5Q5Yr0Kh"
      }
    },
    {
      "cell_type": "code",
      "source": [
        "model = Model('Ejercicio_4')"
      ],
      "metadata": {
        "id": "Bidb1eWYr0Kh"
      },
      "execution_count": 44,
      "outputs": []
    },
    {
      "cell_type": "code",
      "source": [
        "#Parametros\n",
        "beneficio = [[2,4,3],[5,3,6],[3,4,2]]\n",
        "capacidad = [200,400,300]\n",
        "contaminacion_max = [150,250,200]\n",
        "contaminacion_pu = [0.5,2,1]\n",
        "penalizacionn = [200,150,100]\n",
        "\n",
        "#Variables\n",
        "x, y, e = {}, {}, {}\n",
        "\n",
        "for i in range(1,4):\n",
        "  y[i] = model.addVar(name = f'y_{i}', vtype = 'B')\n",
        "  e[i] = model.addVar(name = f'e_{i}', vtype = 'C', lb  = 0)\n",
        "  for j in range(1,4):\n",
        "    x[(i,j)] = model.addVar(name = f'x_{i}_{j}', vtype = 'C', lb = 0)\n",
        "\n",
        "#Restricciones\n",
        "model.addCons(sum(y[i] for i in range(1,4)) == 1)\n",
        "model.addCons(sum(penalizacionn[i-1] * e[i] for i in range(1,4)) <= 90000)\n",
        "for i in range(1,4):\n",
        "    model.addCons(sum(x[(i,j)] for j in range(1,4)) <= capacidad[i-1] * y[i])\n",
        "    model.addCons(e[i] >= sum(contaminacion_pu[j-1] * x[(i,j)] for j in range(1,4)) - contaminacion_max[i-1] * y[i])\n",
        "\n",
        "#Objetivo\n",
        "model.setObjective(sum(sum(beneficio[i-1][j-1] * x[(i,j)] for j in range(1,4)) for i in range(1,4)), sense = 'maximize')\n"
      ],
      "metadata": {
        "id": "h-cKPuCxr0Kh"
      },
      "execution_count": 45,
      "outputs": []
    },
    {
      "cell_type": "code",
      "source": [
        "model.redirectOutput()\n",
        "model.optimize()"
      ],
      "metadata": {
        "colab": {
          "base_uri": "https://localhost:8080/"
        },
        "outputId": "e9dcca34-9811-434c-a7a1-12e4582edec2",
        "id": "UclcV6q-r0Ki"
      },
      "execution_count": 46,
      "outputs": [
        {
          "output_type": "stream",
          "name": "stdout",
          "text": [
            "presolving:\n",
            "(round 1, fast)       0 del vars, 0 del conss, 0 add conss, 12 chg bounds, 0 chg sides, 0 chg coeffs, 0 upgd conss, 0 impls, 1 clqs\n",
            "   (0.0s) running MILP presolver\n",
            "   (0.0s) MILP presolver (2 rounds): 1 aggregations, 2 fixings, 0 bound changes\n",
            "(round 2, medium)     3 del vars, 8 del conss, 7 add conss, 12 chg bounds, 0 chg sides, 0 chg coeffs, 0 upgd conss, 0 impls, 1 clqs\n",
            "   (0.0s) probing cycle finished: starting next cycle\n",
            "   (0.0s) symmetry computation started: requiring (bin +, int +, cont +), (fixed: bin -, int -, cont -)\n",
            "   (0.0s) no symmetry present (symcode time: 0.00)\n",
            "presolving (3 rounds: 3 fast, 2 medium, 1 exhaustive):\n",
            " 3 deleted vars, 8 deleted constraints, 7 added constraints, 12 tightened bounds, 0 added holes, 0 changed sides, 0 changed coefficients\n",
            " 14 implications, 1 cliques\n",
            "presolved problem has 12 variables (2 bin, 0 int, 0 impl, 10 cont) and 7 constraints\n",
            "      7 constraints of type <linear>\n",
            "Presolving Time: 0.00\n",
            "\n",
            " time | node  | left  |LP iter|LP it/n|mem/heur|mdpt |vars |cons |rows |cuts |sepa|confs|strbr|  dualbound   | primalbound  |  gap   | compl. \n",
            "t 0.0s|     1 |     0 |     0 |     - | trivial|   0 |  12 |   7 |   0 |   0 |  0 |   0 |   0 | 8.300000e+03 | 0.000000e+00 |    Inf | unknown\n",
            "p 0.0s|     1 |     0 |     2 |     - |  clique|   0 |  12 |   7 |   7 |   0 |  0 |   0 |   0 | 8.300000e+03 | 8.000000e+02 | 937.50%| unknown\n",
            "* 0.0s|     1 |     0 |    11 |     - |    LP  |   0 |  12 |   7 |   7 |   0 |  0 |   0 |   0 | 2.400000e+03 | 2.400000e+03 |   0.00%| unknown\n",
            "  0.0s|     1 |     0 |    11 |     - |   690k |   0 |  12 |   7 |   7 |   0 |  0 |   0 |   0 | 2.400000e+03 | 2.400000e+03 |   0.00%| unknown\n",
            "\n",
            "SCIP Status        : problem is solved [optimal solution found]\n",
            "Solving Time (sec) : 0.00\n",
            "Solving Nodes      : 1\n",
            "Primal Bound       : +2.40000000000000e+03 (3 solutions)\n",
            "Dual Bound         : +2.40000000000000e+03\n",
            "Gap                : 0.00 %\n"
          ]
        }
      ]
    },
    {
      "cell_type": "code",
      "source": [
        "model.getBestSol()"
      ],
      "metadata": {
        "colab": {
          "base_uri": "https://localhost:8080/"
        },
        "outputId": "dee682a6-dc76-4f20-d04f-e8c8a621fa5c",
        "id": "gQBTDGJAr0Ki"
      },
      "execution_count": 47,
      "outputs": [
        {
          "output_type": "execute_result",
          "data": {
            "text/plain": [
              "{'y_1': 0.0, 'y_2': 1.0, 'y_3': 0.0, 'x_1_2': 0.0, 'x_1_3': 0.0, 'e_1': 337.5, 'e_2': 150.0, 'x_2_1': 0.0, 'x_2_2': 0.0, 'x_2_3': 400.0, 'x_1_1': 0.0, 'e_3': 0.0, 'x_3_1': 0.0, 'x_3_2': 0.0, 'x_3_3': 0.0}"
            ]
          },
          "metadata": {},
          "execution_count": 47
        }
      ]
    },
    {
      "cell_type": "markdown",
      "source": [
        "# Ejercicio 6"
      ],
      "metadata": {
        "id": "FswPgZ98r7C8"
      }
    },
    {
      "cell_type": "code",
      "source": [
        "model = Model('Ejercicio_6')"
      ],
      "metadata": {
        "id": "LVmhKI-7r7C8"
      },
      "execution_count": 64,
      "outputs": []
    },
    {
      "cell_type": "code",
      "source": [
        "#Parametros\n",
        "utilidad = [[12,22,38,40],[-1,13,20,29],[-1,-1,10,19],[-1,-1,-1,12]]\n",
        "\n",
        "#Variables\n",
        "x = {}\n",
        "for i in range(1,5):\n",
        "  for j in range(i+1,6):\n",
        "    x[(i,j)] = model.addVar(name = f'x_{i}_{j}', vtype = 'B')\n",
        "\n",
        "#Restricciones\n",
        "#(No sabia que se podia usar un solo sum, te odio python)\n",
        "for i in range(1,5):\n",
        "    model.addCons(\n",
        "        sum(x[(l,k)]\n",
        "            for k in range(i+1,6)\n",
        "            for l in range(1,i+1)) <= 1)\n",
        "\n",
        "# Objetivo\n",
        "model.setObjective(\n",
        "    sum(utilidad[i-1][j-1] * x[(i,j)]\n",
        "        for i in range(1,5)\n",
        "        for j in range(i+1,6)),\n",
        "    sense = 'maximize'\n",
        ")"
      ],
      "metadata": {
        "colab": {
          "base_uri": "https://localhost:8080/",
          "height": 332
        },
        "id": "lbodHXDOr7C8",
        "outputId": "978af31c-30e1-4946-c5e6-c2d589fd92a1"
      },
      "execution_count": 69,
      "outputs": [
        {
          "output_type": "error",
          "ename": "IndexError",
          "evalue": "list index out of range",
          "traceback": [
            "\u001b[0;31m---------------------------------------------------------------------------\u001b[0m",
            "\u001b[0;31mIndexError\u001b[0m                                Traceback (most recent call last)",
            "\u001b[0;32m/tmp/ipython-input-207062033.py\u001b[0m in \u001b[0;36m<cell line: 0>\u001b[0;34m()\u001b[0m\n\u001b[1;32m     18\u001b[0m \u001b[0;31m# Objetivo\u001b[0m\u001b[0;34m\u001b[0m\u001b[0;34m\u001b[0m\u001b[0m\n\u001b[1;32m     19\u001b[0m model.setObjective(\n\u001b[0;32m---> 20\u001b[0;31m     sum(utilidad[i-1][j-1] * x[(i,j)]\n\u001b[0m\u001b[1;32m     21\u001b[0m         \u001b[0;32mfor\u001b[0m \u001b[0mi\u001b[0m \u001b[0;32min\u001b[0m \u001b[0mrange\u001b[0m\u001b[0;34m(\u001b[0m\u001b[0;36m1\u001b[0m\u001b[0;34m,\u001b[0m\u001b[0;36m5\u001b[0m\u001b[0;34m)\u001b[0m\u001b[0;34m\u001b[0m\u001b[0;34m\u001b[0m\u001b[0m\n\u001b[1;32m     22\u001b[0m         for j in range(i+1,6)),\n",
            "\u001b[0;32m/tmp/ipython-input-207062033.py\u001b[0m in \u001b[0;36m<genexpr>\u001b[0;34m(.0)\u001b[0m\n\u001b[1;32m     18\u001b[0m \u001b[0;31m# Objetivo\u001b[0m\u001b[0;34m\u001b[0m\u001b[0;34m\u001b[0m\u001b[0m\n\u001b[1;32m     19\u001b[0m model.setObjective(\n\u001b[0;32m---> 20\u001b[0;31m     sum(utilidad[i-1][j-1] * x[(i,j)]\n\u001b[0m\u001b[1;32m     21\u001b[0m         \u001b[0;32mfor\u001b[0m \u001b[0mi\u001b[0m \u001b[0;32min\u001b[0m \u001b[0mrange\u001b[0m\u001b[0;34m(\u001b[0m\u001b[0;36m1\u001b[0m\u001b[0;34m,\u001b[0m\u001b[0;36m5\u001b[0m\u001b[0;34m)\u001b[0m\u001b[0;34m\u001b[0m\u001b[0;34m\u001b[0m\u001b[0m\n\u001b[1;32m     22\u001b[0m         for j in range(i+1,6)),\n",
            "\u001b[0;31mIndexError\u001b[0m: list index out of range"
          ]
        }
      ]
    },
    {
      "cell_type": "code",
      "source": [
        "model.redirectOutput()\n",
        "model.optimize()"
      ],
      "metadata": {
        "id": "zVzfkJA9r7C8"
      },
      "execution_count": null,
      "outputs": []
    },
    {
      "cell_type": "code",
      "source": [
        "model.getBestSol()"
      ],
      "metadata": {
        "id": "uaRiYGKTr7C9"
      },
      "execution_count": null,
      "outputs": []
    }
  ]
}